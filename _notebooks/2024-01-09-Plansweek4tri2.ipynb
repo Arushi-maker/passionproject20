{
 "cells": [
  {
   "cell_type": "markdown",
   "metadata": {},
   "source": [
    "---\n",
    "toc: true\n",
    "comments: true\n",
    "layout: notebook\n",
    "title: Plans W4 T2\n",
    "description: Here, we discuss our plans for the following week desiging and creating an Ideation for our passion project.\n",
    "courses: { csp: {week: 4} }\n",
    "type: hacks\n",
    "---"
   ]
  },
  {
   "cell_type": "markdown",
   "metadata": {},
   "source": [
    "# <font color = \"FFC0CB\"> Week Four Notebook </font> \n",
    "### Day 1, Tuesday January 9th:\n",
    "**<font color = \"FFC888\"> Team Priority: </font>**\n",
    "\n",
    "\n",
    "The team priority for today is to begin desiging the visualization of our mental health based application. The other main goal is to create plans for the rest of the week as well as creating a review ticket. \n",
    "\n",
    "\n",
    "**<font color = \"FFC888\"> Individual Priority: </font>**\n",
    "\n",
    "\n",
    "[x]Ananya: Work on Canva to create the beginning designs; sign-in page outlines\n",
    "\n",
    "[x]Arushi: Create all plans are review ticket basics\n",
    "\n",
    "[x]Priya: Work on Canva to create the beginning designs; sign-in page designs\n",
    "\n",
    "[x]Sumedha: Look at code towards the questionaire for the mental health application\n",
    "\n",
    "\n"
   ]
  }
 ],
 "metadata": {
  "language_info": {
   "name": "python"
  },
  "orig_nbformat": 4
 },
 "nbformat": 4,
 "nbformat_minor": 2
}
