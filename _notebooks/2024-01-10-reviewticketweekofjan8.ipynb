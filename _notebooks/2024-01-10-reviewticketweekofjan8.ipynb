{
 "cells": [
  {
   "cell_type": "markdown",
   "metadata": {},
   "source": [
    "---\n",
    "toc: true\n",
    "comments: true\n",
    "layout: notebook\n",
    "title: Review Ticket W4 T2\n",
    "description: Here, we show a review of the work we have done this week.\n",
    "courses: { csp: {week: 4} }\n",
    "type: hacks\n",
    "---"
   ]
  },
  {
   "cell_type": "markdown",
   "metadata": {},
   "source": [
    "Checkpoint A. Plan/In Progress.\n",
    "\n",
    "- Elements of design are in progress by all team members\n",
    "- Evidence of design asset ownerships as show in list below"
   ]
  },
  {
   "cell_type": "markdown",
   "metadata": {},
   "source": [
    "-------------\n",
    "\n",
    "55% no review ticket, no key indicators\n",
    "\n",
    "70% review ticket with accounting, missing elements or ownership\n",
    "\n",
    "80% all elements covered and ownership assigned\n",
    "\n",
    "90%  exemplar initial planning work, meeting all preliminary plan objectives\n",
    "\n",
    "-------------\n",
    "\n",
    "Extra.  At the end of this review Teacher should believe team is ready ...\n",
    "\n",
    "to finish planning\n",
    "to progress ideas\n",
    "to work with team members"
   ]
  }
 ],
 "metadata": {
  "language_info": {
   "name": "python"
  },
  "orig_nbformat": 4
 },
 "nbformat": 4,
 "nbformat_minor": 2
}
