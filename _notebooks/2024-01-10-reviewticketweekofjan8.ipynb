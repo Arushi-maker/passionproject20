{
 "cells": [
  {
   "cell_type": "markdown",
   "metadata": {},
   "source": [
    "---\n",
    "toc: true\n",
    "comments: true\n",
    "layout: notebook\n",
    "title: Review Ticket W4 T2\n",
    "description: Here, we show a review of the work we have done this week.\n",
    "courses: { csp: {week: 4} }\n",
    "type: hacks\n",
    "---"
   ]
  },
  {
   "cell_type": "markdown",
   "metadata": {},
   "source": [
    "Checkpoint A. Plan/In Progress.\n",
    "\n",
    "- Elements of design are in progress by all team members\n",
    "- Evidence of design asset ownerships as show in list below"
   ]
  },
  {
   "cell_type": "markdown",
   "metadata": {},
   "source": [
    "-------------\n",
    "\n",
    "55% no review ticket, no key indicators\n",
    "\n",
    "70% review ticket with accounting, missing elements or ownership\n",
    "\n",
    "80% all elements covered and ownership assigned\n",
    "\n",
    "90%  exemplar initial planning work, meeting all preliminary plan objectives\n",
    "\n",
    "-------------\n",
    "\n",
    "Extra.  At the end of this review Teacher should believe team is ready ...\n",
    "\n",
    "to finish planning\n",
    "to progress ideas\n",
    "to work with team members"
   ]
  },
  {
   "cell_type": "markdown",
   "metadata": {},
   "source": [
    "\n",
    "# <font color = \"FFC0CB\"> Our Manifesto: </font> \n",
    "The goal is to create an application where any user can come and get a preliminary diagnosis while also having a safe space to indulge in mental health awareness. Our application centers around a personal questionaire, inkblot tests, and various exams to find the perfect evaluation for their needs. Our team believes in agile working to complete this task. We hope to make this a reliable and open source to several kinds of people from all demographics, who want instantaneous results.\n",
    "\n",
    "## <font color = \"FFC0CB\"> Overall Tasks: </font> \n",
    "1. Ananya: Backend, work on the inkblot test\n",
    "2. Arushi: Backend, sign-in and design \n",
    "3. Priya: Frontend, mental health questionaire\n",
    "4. Sumedha: Frontend, the games\n",
    "\n",
    "## <font color = \"FFC0CB\"> Positions: </font> \n",
    "- Scrum Master: Arushi \n",
    "- Backend Developer: Ananya \n",
    "- Frontend: Sumedha\n",
    "- DevOps: Priya\n",
    "\n",
    "## <font color = \"FFC0CB\"> What has been done: </font>\n",
    "- All beginning design on Canva\n",
    "- Daily planning\n",
    "- Overall task assigned"
   ]
  }
 ],
 "metadata": {
  "language_info": {
   "name": "python"
  },
  "orig_nbformat": 4
 },
 "nbformat": 4,
 "nbformat_minor": 2
}
