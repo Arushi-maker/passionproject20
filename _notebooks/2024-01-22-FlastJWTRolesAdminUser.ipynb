{
 "cells": [
  {
   "cell_type": "markdown",
   "metadata": {},
   "source": [
    "---\n",
    "toc: true\n",
    "comments: true\n",
    "layout: notebook\n",
    "title: Flask JWT\n",
    "description: Team teach part two\n",
    "courses: { csp: {week: 3} }\n",
    "type: hacks\n",
    "authors: Ananya Asudani, Arushi Pandey, Priya Suvarnagiri, Sumedha Kamaraju\n",
    "---"
   ]
  },
  {
   "cell_type": "markdown",
   "metadata": {},
   "source": [
    "# <span style=\"font-family: 'Times New Roman'; color: #FFC0CB;\">User Roles: </span>\n",
    "\n",
    "Users are individuals who interact with the web application.\n",
    "User roles define the level of access and permissions a user has within the application.\n",
    "Common user roles might include regular users who can access certain features, view content, and interact with the application.\n",
    "\n",
    "# <span style=\"font-family: 'Times New Roman'; color: #FFC0CB;\">Admin Roles: </span>\n",
    "\n",
    "Admins are users with elevated privileges and control over the application.\n",
    "Admin roles typically have access to additional features and functionalities that regular users don't have.\n",
    "Admins may have the ability to manage user accounts, access sensitive information, and perform administrative tasks.\n",
    "\n",
    "In the context of a Flask application, these roles are often implemented using a concept called \"Authorization\" or \"Access Control.\" Flask provides mechanisms to manage user sessions, check user roles, and restrict access to certain parts of the application based on the user's role.\n",
    "\n",
    "For example, you might have routes in your Flask application that are only accessible to users with admin roles. Here's a simplified example using Flask's @app.route decorator and a hypothetical user_role variable:\n"
   ]
  },
  {
   "cell_type": "code",
   "execution_count": null,
   "metadata": {},
   "outputs": [],
   "source": [
    "from flask import Flask, render_template\n",
    "\n",
    "app = Flask(__name__)\n",
    "\n",
    "@app.route('/user/dashboard')\n",
    "def user_dashboard():\n",
    "    # Code for user dashboard\n",
    "    return render_template('user_dashboard.html')\n",
    "\n",
    "@app.route('/admin/dashboard')\n",
    "def admin_dashboard():\n",
    "    # Code for admin dashboard\n",
    "    return render_template('admin_dashboard.html')\n",
    "\n",
    "if __name__ == '__main__':\n",
    "    app.run(debug=True)"
   ]
  },
  {
   "cell_type": "markdown",
   "metadata": {},
   "source": [
    "In a real-world scenario, you would likely use a more robust authentication and authorization system, such as Flask-Login or Flask-Security, to handle user roles and permissions securely.\n",
    "\n",
    "Remember that this is a simplified explanation, and the actual implementation might vary based on the specific requirements of your web application."
   ]
  },
  {
   "cell_type": "markdown",
   "metadata": {},
   "source": [
    "# <span style=\"font-family: 'Times New Roman'; color: #FFC0CB;\">Role Based Authorization: </span>\n",
    "\n",
    "### **Authorization and @roles_required decorator:**\n",
    "\n",
    "Authorization is the process of specifying and enforcing access rights of users to resources. Flask-User provides role-based authorization through the use of the @roles_required decorator. This decorator is applied to view functions (route handlers) in Flask.\n",
    "\n",
    "### **Conditions for Access:**\n",
    "\n",
    "For a user to access a route decorated with @roles_required:\n",
    "\n",
    "- The user must be logged in.\n",
    "- The user must be associated with the specified role names.\n",
    "- If these conditions are not met, an 'Unauthorized access' error message is shown, and the user is redirected to the USER_UNAUTHORIZED_ENDPOINT.\n",
    "\n",
    "### **Example of @roles_required decorator:**\n",
    "\n",
    "The provided example demonstrates a route /admin/dashboard that requires the user to be logged in and associated with the 'Admin' role."
   ]
  },
  {
   "cell_type": "code",
   "execution_count": null,
   "metadata": {},
   "outputs": [],
   "source": [
    "from flask_user import roles_required\n",
    "\n",
    "@route('/admin/dashboard')    # @route() must always be the outer-most decorator\n",
    "@roles_required('Admin')\n",
    "def admin_dashboard():\n",
    "    # render the admin dashboard"
   ]
  },
  {
   "cell_type": "markdown",
   "metadata": {},
   "source": [
    "*Note that the comparison of role names is case-sensitive.*\n",
    "\n",
    "# <span style=\"font-family: 'Times New Roman'; color: #FFC0CB;\">Simple AND/OR Operations: </span>\n",
    "\n",
    "\n",
    "### **AND Operation:** \n",
    "At the decorator level, if multiple role names are specified, the user must have all the specified roles.\n",
    "\n",
    "### **OR Operation:** \n",
    "At the argument level, each item may be a role name or a list of role names. If a list of role names is specified, the user must have any one of the specified roles to gain access.\n",
    "\n",
    "#### Example of OR operation:\n",
    "\n",
    "Ensures that the user is ('Starving' AND (an 'Artist' OR a 'Programmer'))\n",
    "@roles_required('Starving', ['Artist', 'Programmer'])\n",
    "\n",
    "The nesting level only goes as deep as the example shows.\n",
    "\n",
    "### **Required Role and User Roles data-models:**\n",
    "\n",
    "The @roles_required decorator depends on the Role and UserRoles data-models, in addition to the User data-model. These data-models likely define the roles available in the application and the association between users and roles.\n",
    "\n",
    "**Example App:**\n",
    "\n",
    "The explanation refers to a \"Basic App\" that demonstrates the use of the @roles_required decorator. It would be worthwhile to refer to the documentation or example code provided by Flask-User to see the actual implementation of these concepts in a complete application."
   ]
  },
  {
   "cell_type": "markdown",
   "metadata": {},
   "source": [
    "# <span style=\"font-family: 'Times New Roman'; color: #FFC0CB;\">User Data Model: </span>\n",
    "\n",
    "In user data models, there can be multiple types of users.\n",
    "\n",
    "The flask security library and SQLALchemy are used to store user's information. These two, along with UserMixin and RoleMixin which are imported from the library, are used to make user database tables with all user roles. This is written for the computer to understand and figure out what type of user you are.\n",
    "\n",
    "Code:\n",
    "\n",
    "*import UserMixin, RoleMixin*\n",
    "\n",
    "*from flask_security import UserMixin, RoleMixin*\n",
    "\n",
    "\n",
    "In Flask, a route decorator is used to handle requests, mainly using the GET and POST methods. \n",
    "\n",
    "**GET Method**: A method used to retrieve data from servers. Ex: entering keywords into search bar and seeing the keyword in the URL. This method is used when the data is not sensitive. \n",
    "\n",
    "**POST Method**: This method is used to send data to a server. For example: In any authentication enabled application, entering a user id and password into a login form. Using this method, we do not see the password in the URL. \n"
   ]
  },
  {
   "cell_type": "code",
   "execution_count": null,
   "metadata": {},
   "outputs": [],
   "source": [
    "@app.route('/register', methods=[\"GET\", \"POST\"])\n",
    "\n",
    "def register():\n",
    "\n",
    "  If the user made a POST request, create a new user\n",
    "\n",
    "    if request.method == \"POST\":\n",
    "\n",
    "        user = Users(username=request.form.get(\"username\"),\n",
    "\n",
    "                     password=request.form.get(\"password\"))\n",
    "\n",
    "        # Add the user to the database\n",
    "\n",
    "        db.session.add(user)\n",
    "\n",
    "        # Commit the changes made\n",
    "\n",
    "        db.session.commit()\n",
    "\n",
    "        # Once user account created, redirect them\n",
    "\n",
    "        # to login route (created later on)\n",
    "\n",
    "        return redirect(url_for(\"login\"))\n",
    "\n",
    "    # Renders sign_up template if user made a GET request\n",
    "    \n",
    "    return render_template(\"sign_up.html\")"
   ]
  },
  {
   "cell_type": "markdown",
   "metadata": {},
   "source": [
    "# <span style=\"font-family: 'Times New Roman'; color: #FFC0CB;\">Flexible Class Name: </span>\n",
    "\n",
    "In Flask, user class names can be whatever the user chooses.\n",
    "\n",
    "Flask JWT typically works with the following classes:\n",
    "\n",
    "1. 'JWT' Class: This class is part of the flask_jwt_extended extension, which provides JWT support for Flask. It is used to initialize your Flask application with JWT functionality.\n"
   ]
  },
  {
   "cell_type": "code",
   "execution_count": null,
   "metadata": {},
   "outputs": [],
   "source": [
    "from flask_jwt_extended import JWTManager\n",
    "\n",
    "    jwt = JWTManager(app)"
   ]
  },
  {
   "cell_type": "markdown",
   "metadata": {},
   "source": [
    "2. 'jwt_required' and 'jwt_optional' Decorators: These decorators are used to protect routes and specify    whether a token is required or optional for accessing a particular route."
   ]
  },
  {
   "cell_type": "code",
   "execution_count": null,
   "metadata": {},
   "outputs": [],
   "source": [
    "from flask_jwt_extended import jwt_required, jwt_optional\n",
    "\n",
    "@app.route('/protected', methods=['GET'])\n",
    "@jwt_required()\n",
    "\n",
    "def protected():\n",
    "    # Accessible only with a valid JWT token\n",
    "    \n",
    "    return jsonify(logged_in=True), 200\n",
    "\n",
    "@app.route('/optional', methods=['GET'])\n",
    "\n",
    "@jwt_optional()\n",
    "\n",
    "def optional():\n",
    "\n",
    "    # Accessible with or without a valid JWT token\n",
    "    \n"
   ]
  },
  {
   "cell_type": "markdown",
   "metadata": {},
   "source": [
    "These routes allow you to create both protected and public routes in a Flask application. \n",
    "\n",
    "3. 'get_jwt_identity' Function: This function is used to get the identity (usually user identifier) from the current JWT. It's often used within protected routes to retrieve information about the authenticated user."
   ]
  },
  {
   "cell_type": "code",
   "execution_count": null,
   "metadata": {},
   "outputs": [],
   "source": [
    "    *return jsonify(logged_in=get_jwt_identity() is not None), 200*"
   ]
  },
  {
   "cell_type": "markdown",
   "metadata": {},
   "source": [
    "## <span style=\"font-family: 'Times New Roman'; color: #FFC0CB;\">*EXTRA* User Email Data Models </span>\n",
    "#### <span style=\"font-family: 'Times New Roman'; color: #FFC0CB;\">*What are User Email Data Models?* </span>\n",
    "\n",
    "The user data model represents how user information is structured and stored in your database. It includes fields such as username, password, email, and possibly additional information like roles. Now to get a deeper understanding, let's integrate this into our flask."
   ]
  },
  {
   "cell_type": "code",
   "execution_count": null,
   "metadata": {},
   "outputs": [],
   "source": [
    "class User:\n",
    "    # define the new variables including EMAIL\n",
    "    def __init__(self, user_id, username, password, email, roles):\n",
    "        self.user_id = user_id\n",
    "        self.username = username\n",
    "        self.password = password\n",
    "        self.email = email\n",
    "        self.roles = roles\n",
    "\n",
    "# this will be your database\n",
    "users = [\n",
    "    User(1, 'admin', 'admin_password', 'admin@example.com', ['admin']),\n",
    "    User(2, 'user', 'user_password', 'user@example.com', ['user'])\n",
    "]"
   ]
  },
  {
   "cell_type": "markdown",
   "metadata": {},
   "source": [
    "If we look at the code above it looks quite simlar to the code already in our flask, with the addition of self.email = email. To continue the registration and login page, it's the exact same process as we have seen before. So, you're all set!\n",
    "\n",
    "However, here's a hint just in case you need some extra help with user registration!\n",
    "\n",
    "### <span style=\"font-family: 'Times New Roman'; color: #c1121f;\"> User Registration Code: </span>"
   ]
  },
  {
   "cell_type": "code",
   "execution_count": null,
   "metadata": {},
   "outputs": [],
   "source": [
    "from flask import generate_password_hash, check_password_hash\n",
    "\n",
    "# For simplicity, using an in-memory user storage. In production, use a database.\n",
    "users = []\n",
    "user_id_counter = 1\n",
    "\n",
    "@app.route('/register', methods=['POST'])\n",
    "def register():\n",
    "    data = request.get_json()\n",
    "    username = data.get('username')\n",
    "    email = data.get('email')\n",
    "    password = generate_password_hash(data.get('password'), method='sha256')\n",
    "    roles = data.get('roles', ['user'])  # Default role is 'user'\n",
    "\n",
    "    new_user = User(user_id_counter, username, email, password, roles)\n",
    "    users.append(new_user)\n",
    "\n",
    "    global user_id_counter\n",
    "    user_id_counter += 1\n",
    "\n",
    "    return jsonify(message='User registered successfully'), 201\n",
    "\n",
    "@app.route('/login', methods=['POST'])\n",
    "def login():\n",
    "    data = request.get_json()\n",
    "    email = data.get('email')\n",
    "    password = data.get('password')\n",
    "\n",
    "    user = next((user for user in users if user.email == email), None)\n",
    "\n",
    "    if user and check_password_hash(user.password, password):\n",
    "        access_token = create_access_token(identity=email, additional_claims={'roles': user.roles})\n",
    "        return jsonify(access_token=access_token), 200\n",
    "    else:\n",
    "        return jsonify(message='Invalid credentials'), 401\n"
   ]
  },
  {
   "cell_type": "markdown",
   "metadata": {},
   "source": [
    "**A fixed data model** refers to a data schema or structure where the properties (fields or columns) and their characteristics, such as data types and relationships, are predefined and rigid. In other words, the structure of the data is explicitly defined before any data is inserted into the database. This fixed structure is typically enforced at the database level, and any deviation from the defined schema may result in errors or rejection of the data.\n",
    "\n",
    "Relational databases, like those using the SQL (Structured Query Language) model, often adhere to fixed data models. In a relational database, you create tables with predefined columns, each having a specific data type. Relationships between tables are also defined, ensuring data integrity and consistency.\n",
    "\n",
    "**Advantages of a fixed data model include:**\n",
    "\n",
    "- **Data Integrity:** Enforcing a predefined schema helps maintain data consistency and integrity by ensuring that data conforms to a specific structure.\n",
    "  \n",
    "- **Query Optimization:** Fixed data models allow for the optimization of queries since the database engine can make assumptions about the structure of the data.\n",
    "  \n",
    "- **Validation:** The fixed structure allows for validation checks to ensure that only valid and correctly formatted data is stored.\n",
    "\n",
    "One drawback of a fixed data model is that it may be less flexible when it comes to accommodating changes in requirements or evolving data structures. If your application frequently undergoes changes or if you need to handle diverse types of data, a more flexible approach, such as a NoSQL database or a hybrid model, might be more suitable.\n",
    "\n",
    "**A flexible database column name** refers to an approach in which the structure of the database allows for dynamic or variable column names. This flexibility is often associated with NoSQL databases or schema-less databases, where the data model is not rigidly predefined.\n",
    "\n",
    "In databases with flexible column names, records within a collection or table can have different sets of properties, and each property may not have a fixed name or data type across all records. This flexibility is particularly useful in scenarios where the data structure is not known in advance, or where the structure of the data can vary widely between different entities or records.\n",
    "\n",
    "#### Some advantages of flexible database column names include:\n",
    "\n",
    "- **Adaptability:** The database can easily accommodate changes in data requirements without requiring alterations to the schema.\n",
    "  \n",
    "- **Dynamic Schemas:** Each record can have its own set of properties, allowing for a dynamic and evolving data model.\n",
    "  \n",
    "- **Support for Varied Data:** It's well-suited for scenarios where different records may have distinct attributes, and there is no strict uniformity in the data structure.\n",
    "\n",
    "**While the flexibility is beneficial for certain use cases, it's important to consider the trade-offs. Some potential challenges include:**\n",
    "\n",
    "- **Query Complexity:** Retrieving and querying data can be more complex when column names are not standardized, potentially requiring additional handling in the application code.\n",
    "  \n",
    "- **Consistency:** Ensuring consistency across records can be challenging, as there may be variations in the structure of the data.\n",
    "  \n",
    "- **Validation:** Enforcing data integrity and validation may need to be handled at the application level, as the database itself may not impose strict constraints on the structure of the data.\n",
    "\n",
    "Examples of databases that support flexible column names include document-oriented NoSQL databases like MongoDB, where each document can have different fields.\n"
   ]
  },
  {
   "cell_type": "markdown",
   "metadata": {},
   "source": [
    "## Fixed data ,odel property names\n",
    "\n",
    "## Flexible database column names\n",
    "\n",
    "## Optional Role and UserRoles data models\n"
   ]
  }
 ],
 "metadata": {
  "kernelspec": {
   "display_name": "Python 3",
   "language": "python",
   "name": "python3"
  },
  "language_info": {
   "name": "python",
   "version": "3.10.12"
  },
  "orig_nbformat": 4
 },
 "nbformat": 4,
 "nbformat_minor": 2
}
