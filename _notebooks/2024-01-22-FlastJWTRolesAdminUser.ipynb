{
 "cells": [
  {
   "cell_type": "markdown",
   "metadata": {},
   "source": [
    "---\n",
    "toc: true\n",
    "comments: true\n",
    "layout: notebook\n",
    "title: Flask JWT\n",
    "description: Team teach part two\n",
    "courses: { csp: {week: 3} }\n",
    "type: hacks\n",
    "authors: Ananya Asudani, Arushi Pandey, Priya Suvarnagiri, Sumedha Kamaraju\n",
    "---"
   ]
  },
  {
   "cell_type": "markdown",
   "metadata": {},
   "source": [
    "\n",
    "User Roles:\n",
    "\n",
    "Users are individuals who interact with the web application.\n",
    "User roles define the level of access and permissions a user has within the application.\n",
    "Common user roles might include regular users who can access certain features, view content, and interact with the application.\n",
    "Admin Roles:\n",
    "\n",
    "Admins are users with elevated privileges and control over the application.\n",
    "Admin roles typically have access to additional features and functionalities that regular users don't have.\n",
    "Admins may have the ability to manage user accounts, access sensitive information, and perform administrative tasks.\n",
    "In the context of a Flask application, these roles are often implemented using a concept called \"Authorization\" or \"Access Control.\" Flask provides mechanisms to manage user sessions, check user roles, and restrict access to certain parts of the application based on the user's role.\n",
    "\n",
    "For example, you might have routes in your Flask application that are only accessible to users with admin roles. Here's a simplified example using Flask's @app.route decorator and a hypothetical user_role variable:\n",
    "\n",
    "from flask import Flask, render_template\n",
    "\n",
    "app = Flask(__name__)\n",
    "\n",
    "@app.route('/user/dashboard')\n",
    "def user_dashboard():\n",
    "    # Code for user dashboard\n",
    "    return render_template('user_dashboard.html')\n",
    "\n",
    "@app.route('/admin/dashboard')\n",
    "def admin_dashboard():\n",
    "    # Code for admin dashboard\n",
    "    return render_template('admin_dashboard.html')\n",
    "\n",
    "if __name__ == '__main__':\n",
    "    app.run(debug=True)\n",
    "In a real-world scenario, you would likely use a more robust authentication and authorization system, such as Flask-Login or Flask-Security, to handle user roles and permissions securely.\n",
    "\n",
    "Remember that this is a simplified explanation, and the actual implementation might vary based on the specific requirements of your web application."
   ]
  },
  {
   "cell_type": "markdown",
   "metadata": {},
   "source": [
    "## Role Based Authorization\n",
    "Authorization and @roles_required decorator:\n",
    "Authorization is the process of specifying and enforcing access rights of users to resources. Flask-User provides role-based authorization through the use of the @roles_required decorator. This decorator is applied to view functions (route handlers) in Flask.\n",
    "\n",
    "Conditions for Access:\n",
    "For a user to access a route decorated with @roles_required:\n",
    "\n",
    "The user must be logged in.\n",
    "The user must be associated with the specified role names.\n",
    "If these conditions are not met, an 'Unauthorized access' error message is shown, and the user is redirected to the USER_UNAUTHORIZED_ENDPOINT.\n",
    "\n",
    "Example of @roles_required decorator:\n",
    "The provided example demonstrates a route /admin/dashboard that requires the user to be logged in and associated with the 'Admin' role."
   ]
  },
  {
   "cell_type": "markdown",
   "metadata": {},
   "source": [
    "from flask_user import roles_required\n",
    "\n",
    "@route('/admin/dashboard')    # @route() must always be the outer-most decorator\n",
    "@roles_required('Admin')\n",
    "def admin_dashboard():\n",
    "    # render the admin dashboard"
   ]
  },
  {
   "cell_type": "markdown",
   "metadata": {},
   "source": [
    "Note that the comparison of role names is case-sensitive.\n",
    "\n",
    "Simple AND/OR operations:\n",
    "\n",
    "AND Operation: At the decorator level, if multiple role names are specified, the user must have all the specified roles.\n",
    "OR Operation: At the argument level, each item may be a role name or a list of role names. If a list of role names is specified, the user must have any one of the specified roles to gain access.\n",
    "Example of OR operation:\n",
    "\n",
    "Ensures that the user is ('Starving' AND (an 'Artist' OR a 'Programmer'))\n",
    "@roles_required('Starving', ['Artist', 'Programmer'])\n",
    "\n",
    "The nesting level only goes as deep as the example shows.\n",
    "\n",
    "Required Role and UserRoles data-models:\n",
    "The @roles_required decorator depends on the Role and UserRoles data-models, in addition to the User data-model. These data-models likely define the roles available in the application and the association between users and roles.\n",
    "\n",
    "Example App:\n",
    "The explanation refers to a \"Basic App\" that demonstrates the use of the @roles_required decorator. It would be worthwhile to refer to the documentation or example code provided by Flask-User to see the actual implementation of these concepts in a complete application."
   ]
  },
  {
   "cell_type": "markdown",
   "metadata": {},
   "source": [
    "# Tasks\n",
    "\n",
    "## Role Based Authorization\n",
    "\n",
    "## User data-model\n",
    "\n",
    "## flexible class name\n",
    "\n",
    "## Fixed data ,odel property names\n",
    "\n",
    "## Flexible database column names\n",
    "\n",
    "## Optional Role and UserRoles data models\n",
    "\n",
    "## Optional UserEmail Data Model\n"
   ]
  },
  {
   "cell_type": "markdown",
   "metadata": {},
   "source": []
  }
 ],
 "metadata": {
  "language_info": {
   "name": "python"
  },
  "orig_nbformat": 4
 },
 "nbformat": 4,
 "nbformat_minor": 2
}
