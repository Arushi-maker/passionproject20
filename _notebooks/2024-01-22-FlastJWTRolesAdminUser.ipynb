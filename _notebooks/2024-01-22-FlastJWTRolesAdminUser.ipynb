{
 "cells": [
  {
   "cell_type": "markdown",
   "metadata": {},
   "source": [
    "---\n",
    "toc: true\n",
    "comments: true\n",
    "layout: notebook\n",
    "title: Flask JWT Roles User/Admin User\n",
    "description: 2nd Team Teach\n",
    "courses: { CSP: {week: 19} }\n",
    "type: hacks\n",
    "authors: Ananya Asudani, Arushi Pandey, Priya Suvarnagiri, Sumedha Kamaraju\n",
    "---"
   ]
  },
  {
   "cell_type": "markdown",
   "metadata": {},
   "source": [
    "## <font face=\"Times New Roman\" color=\"#FFC0CB\">User Roles:</font>\n",
    "\n",
    "<span style=\"font-family: 'Times New Roman', sans-serif;\">Users are individuals who interact with the web application.\n",
    "User roles define the level of access and permissions a user has within the application.\n",
    "Common user roles might include regular users who can access certain features, view content, and interact with the application.\n",
    "\n",
    "## <font face=\"Times New Roman\" color=\"#FFC0CB\">Admin Roles:</font>\n",
    "\n",
    "<span style=\"font-family: 'Times New Roman', sans-serif;\">Admins are users with elevated privileges and control over the application.\n",
    "Admin roles typically have access to additional features and functionalities that regular users don't have.\n",
    "Admins may have the ability to manage user accounts, access sensitive information, and perform administrative tasks.\n",
    "In the context of a Flask application, these roles are often implemented using a concept called \"Authorization\" or \"Access Control.\" Flask provides mechanisms to manage user sessions, check user roles, and restrict access to certain parts of the application based on the user's role.</span>\n",
    "\n",
    "<span style=\"font-family: 'Times New Roman', sans-serif;\">For example, you might have routes in your Flask application that are only accessible to users with admin roles. Here's a simplified example using Flask's @app.route decorator and a hypothetical user_role variable:</span>\n",
    "\n",
    "\n"
   ]
  },
  {
   "cell_type": "code",
   "execution_count": null,
   "metadata": {},
   "outputs": [],
   "source": [
    "from flask import Flask, render_template\n",
    "\n",
    "app = Flask(__name__)\n",
    "\n",
    "@app.route('/user/dashboard')\n",
    "def user_dashboard():\n",
    "    # Code for user dashboard\n",
    "    return render_template('user_dashboard.html')\n",
    "\n",
    "@app.route('/admin/dashboard')\n",
    "def admin_dashboard():\n",
    "    # Code for admin dashboard\n",
    "    return render_template('admin_dashboard.html')\n",
    "\n",
    "if __name__ == '__main__':\n",
    "    app.run(debug=True)"
   ]
  },
  {
   "cell_type": "markdown",
   "metadata": {},
   "source": [
    "In a real-world scenario, you would likely use a more robust authentication and authorization system, such as Flask-Login or Flask-Security, to handle user roles and permissions securely.\n",
    "\n",
    "Remember that this is a simplified explanation, and the actual implementation might vary based on the specific requirements of your web application."
   ]
  },
  {
   "cell_type": "markdown",
   "metadata": {},
   "source": [
    "## <font face=\"Times New Roman\" color=\"#FFC0CB\">Role Based Authorization:</font>\n",
    "\n",
    "<span style=\"font-family: 'Times New Roman', sans-serif;\">Authorization and @roles_required decorator:</span>\n",
    "\n",
    "<span style=\"font-family: 'Times New Roman', sans-serif;\">Authorization is the process of specifying and enforcing access rights of users to resources. Flask-User provides role-based authorization through the use of the @roles_required decorator. This decorator is applied to view functions (route handlers) in Flask.</span>\n",
    "\n",
    "\n",
    "### <font face=\"Times New Roman\" color=\"#FFC0CB\">Conditions for Access:</font>\n",
    "\n",
    "<span style=\"font-family: 'Times New Roman', sans-serif;\">For a user to access a route decorated with @roles_required:</span>\n",
    "\n",
    "<span style=\"font-family: 'Times New Roman', sans-serif;\">- The user must be logged in and the user must be associated with the specified role names.</span>\n",
    "\n",
    "<span style=\"font-family: 'Times New Roman', sans-serif;\">If these conditions are not met, an 'Unauthorized access' error message is shown, and the user is redirected to the USER_UNAUTHORIZED_ENDPOINT.</span>\n",
    "\n",
    "<span style=\"font-family: 'Times New Roman', sans-serif;\">Example of @roles_required decorator:\n",
    "The provided example demonstrates a route /admin/dashboard that requires the user to be logged in and associated with the 'Admin' role.</span>"
   ]
  },
  {
   "cell_type": "code",
   "execution_count": null,
   "metadata": {},
   "outputs": [],
   "source": [
    "from flask_user import roles_required\n",
    "\n",
    "@route('/admin/dashboard')    # @route() must always be the outer-most decorator\n",
    "@roles_required('Admin')\n",
    "def admin_dashboard():\n",
    "    # render the admin dashboard"
   ]
  },
  {
   "cell_type": "markdown",
   "metadata": {},
   "source": [
    "*Note that the comparison of role names is case-sensitive.\n",
    "\n",
    "### Simple AND/OR operations:\n",
    "\n",
    "AND Operation: At the decorator level, if multiple role names are specified, the user must have all the specified roles.\n",
    "OR Operation: At the argument level, each item may be a role name or a list of role names. If a list of role names is specified, the user must have any one of the specified roles to gain access.\n",
    "Example of OR operation:\n",
    "\n",
    "Ensures that the user is ('Starving' AND (an 'Artist' OR a 'Programmer'))\n",
    "@roles_required('Starving', ['Artist', 'Programmer'])\n",
    "\n",
    "The nesting level only goes as deep as the example shows.\n",
    "\n",
    "Required Role and UserRoles data-models:\n",
    "The @roles_required decorator depends on the Role and UserRoles data-models, in addition to the User data-model. These data-models likely define the roles available in the application and the association between users and roles.\n",
    "\n",
    "Example App:\n",
    "The explanation refers to a \"Basic App\" that demonstrates the use of the @roles_required decorator. It would be worthwhile to refer to the documentation or example code provided by Flask-User to see the actual implementation of these concepts in a complete application."
   ]
  },
  {
   "cell_type": "markdown",
   "metadata": {},
   "source": [
<<<<<<< HEAD
=======
    "# User Data Model\n",
    "\n",
    "Different users have different access to the application.\n",
    "\n",
    "In Flask, we start with importing the requests library from the HTML database. "
   ]
  },
  {
   "cell_type": "markdown",
   "metadata": {},
   "source": [
    "# Tasks\n",
>>>>>>> 396a812 (first commit)
    "\n",
    "A fixed data model refers to a data schema or structure where the properties (fields or columns) and their characteristics, such as data types and relationships, are predefined and rigid. In other words, the structure of the data is explicitly defined before any data is inserted into the database. This fixed structure is typically enforced at the database level, and any deviation from the defined schema may result in errors or rejection of the data.\n",
    "Relational databases, like those using the SQL (Structured Query Language) model, often adhere to fixed data models. In a relational database, you create tables with predefined columns, each having a specific data type. Relationships between tables are also defined, ensuring data integrity and consistency.\n",
    "Advantages of a fixed data model include:\n",
    "* Data Integrity: Enforcing a predefined schema helps maintain data consistency and integrity by ensuring that data conforms to a specific structure.\n",
    "* Query Optimization: Fixed data models allow for the optimization of queries since the database engine can make assumptions about the structure of the data.\n",
    "* Validation: The fixed structure allows for validation checks to ensure that only valid and correctly formatted data is stored.\n",
    "One drawback of a fixed data model is that it may be less flexible when it comes to accommodating changes in requirements or evolving data structures. If your application frequently undergoes changes or if you need to handle diverse types of data, a more flexible approach, such as a NoSQL database or a hybrid model, might be more suitable.\n",
    "\n",
    "<img src=\"https://i.ibb.co/nrR41jQ/image.png\"></a>\" width=auto height=\"200px\">\n",
    "\n",
    "A flexible database column name refers to an approach in which the structure of the database allows for dynamic or variable column names. This flexibility is often associated with NoSQL databases or schema-less databases, where the data model is not rigidly predefined.\n",
    "In databases with flexible column names, records within a collection or table can have different sets of properties, and each property may not have a fixed name or data type across all records. This flexibility is particularly useful in scenarios where the data structure is not known in advance, or where the structure of the data can vary widely between different entities or records.\n",
    "Some advantages of flexible database column names include:\n",
    "* Adaptability: The database can easily accommodate changes in data requirements without requiring alterations to the schema.\n",
    "* Dynamic Schemas: Each record can have its own set of properties, allowing for a dynamic and evolving data model.\n",
    "* Support for Varied Data: It's well-suited for scenarios where different records may have distinct attributes, and there is no strict uniformity in the data structure.\n",
    "￼\n",
    "While the flexibility is beneficial for certain use cases, it's important to consider the trade-offs. Some potential challenges include:\n",
    "* Query Complexity: Retrieving and querying data can be more complex when column names are not standardized, potentially requiring additional handling in the application code.\n",
    "* Consistency: Ensuring consistency across records can be challenging, as there may be variations in the structure of the data.\n",
    "* Validation: Enforcing data integrity and validation may need to be handled at the application level, as the database itself may not impose strict constraints on the structure of the data.\n",
    "Examples of databases that support flexible column names include document-oriented NoSQL databases like MongoDB, where each document can have different fields\n",
    "\n",
    "\n",
    "\n",
    "\n",
    "\n",
    "\n",
    "\n"
   ]
  },
  {
   "cell_type": "markdown",
   "metadata": {},
   "source": [
    "\n",
    "## User data-model\n",
    "\n",
    "## flexible class name\n",
    "\n",
    "## Fixed data ,odel property names\n",
    "\n",
    "## Flexible database column names\n",
    "\n",
    "## Optional Role and UserRoles data models\n",
    "\n"
   ]
  },
  {
   "cell_type": "markdown",
   "metadata": {},
   "source": [
    "## <font face=\"Times New Roman\" color=\"#FFC0CB\"> *EXTRA*: User Email Data Model</font>\n",
    "<span style=\"font-family: 'Times New Roman', sans-serif;\">In this example, we'll include fields for the user's ID, username, email, password, and roles. But essentialy, this is the same thing as before just the addition of user emails.</span>"
   ]
  },
  {
   "cell_type": "code",
   "execution_count": null,
   "metadata": {},
   "outputs": [],
   "source": [
    "class User:\n",
    "    # define the new variables\n",
    "    def __init__(self, user_id, username, email, password, roles):\n",
    "        # set each equal to self\n",
    "        self.user_id = user_id\n",
    "        self.username = username\n",
    "        self.email = email\n",
    "        self.password = password\n",
    "        self.roles = roles\n"
   ]
  },
  {
   "cell_type": "markdown",
   "metadata": {},
   "source": [
    "<span style=\"font-family: 'Times New Roman', sans-serif;\">Then, set up Flask and Flask JWT Extension. It's the same process as before. Now we will add the code for user authentication.</span>"
   ]
  },
  {
   "cell_type": "code",
   "execution_count": null,
   "metadata": {},
   "outputs": [],
   "source": [
    "from security import generate_password, check_password\n",
    "\n",
    "# Would use a database otherwise\n",
    "users = []\n",
    "user_id_count = 1\n",
    "\n",
    "#Here is the part for registration; collecting user data\n",
    "@app.route('/register', methods=['POST'])\n",
    "def register():\n",
    "    data = request.get_json()\n",
    "    username = data.get('username')\n",
    "    email = data.get('email')\n",
    "    password = generate_password(data.get('password'), method='blahblah')\n",
    "    roles = data.get('roles', ['user'])  # Default role is 'user'\n",
    "\n",
    "    new_user = User(user_id_count, username, email, password, roles)\n",
    "    users.append(new_user)\n",
    "\n",
    "    global user_id_count\n",
    "    user_id_count += 1\n",
    "\n",
    "    #If credentials are correct, display this message\n",
    "    return jsonify(message='Successful User Registration!'), 201\n",
    "\n",
    "@app.route('/login', methods=['POST'])\n",
    "def login():\n",
    "    data = request.get_json()\n",
    "    email = data.get('email')\n",
    "    password = data.get('password')\n",
    "\n",
    "    user = next((user for user in users if user.email == email), None)\n",
    "\n",
    "    #If credentials are incorrect, display this message\n",
    "    if user and check_password(user.password, password):\n",
    "        access_token = create_access_token(identity=email, additional_claims={'roles': user.roles})\n",
    "        return jsonify(access_token=access_token), 200\n",
    "    else:\n",
    "        return jsonify(message='Incorrect credentials'), 401\n"
   ]
  },
  {
   "cell_type": "markdown",
   "metadata": {},
   "source": [
    "<span style=\"font-family: 'Times New Roman', sans-serif;\">Replace 'your_jwt_secret_key' with a secure secret key in a real-world application. The example above is basic, and in a production environment, you would want to store user information in a secure database.</span>"
   ]
  },
  {
   "cell_type": "markdown",
   "metadata": {},
   "source": []
  }
 ],
 "metadata": {
  "kernelspec": {
   "display_name": "Python 3",
   "language": "python",
   "name": "python3"
  },
  "language_info": {
   "name": "python",
   "version": "3.10.12"
  },
  "orig_nbformat": 4
 },
 "nbformat": 4,
 "nbformat_minor": 2
}
