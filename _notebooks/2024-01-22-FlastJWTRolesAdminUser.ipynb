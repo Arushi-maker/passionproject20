{
 "cells": [
  {
   "cell_type": "markdown",
   "metadata": {},
   "source": [
    "---\n",
    "toc: true\n",
    "comments: true\n",
    "layout: notebook\n",
    "title: Flask JWT Roles User/Admin User\n",
    "description: 2nd Team Teach\n",
    "courses: { CSP: {week: 19} }\n",
    "type: hacks\n",
    "authors: Ananya Asudani, Arushi Pandey, Priya Suvarnagiri, Sumedha Kamaraju\n",
    "---"
   ]
  },
  {
   "cell_type": "markdown",
   "metadata": {},
   "source": [
    "## <font face=\"Times New Roman\" color=\"#FFC0CB\">User Roles:</font>\n",
    "\n",
    "<span style=\"font-family: 'Times New Roman', sans-serif;\">Users are individuals who interact with the web application.\n",
    "User roles define the level of access and permissions a user has within the application.\n",
    "Common user roles might include regular users who can access certain features, view content, and interact with the application.\n",
    "\n",
    "## <font face=\"Times New Roman\" color=\"#FFC0CB\">Admin Roles:</font>\n",
    "\n",
    "<span style=\"font-family: 'Times New Roman', sans-serif;\">Admins are users with elevated privileges and control over the application.\n",
    "Admin roles typically have access to additional features and functionalities that regular users don't have.\n",
    "Admins may have the ability to manage user accounts, access sensitive information, and perform administrative tasks.\n",
    "In the context of a Flask application, these roles are often implemented using a concept called \"Authorization\" or \"Access Control.\" Flask provides mechanisms to manage user sessions, check user roles, and restrict access to certain parts of the application based on the user's role.</span>\n",
    "\n",
    "<span style=\"font-family: 'Times New Roman', sans-serif;\">For example, you might have routes in your Flask application that are only accessible to users with admin roles. Here's a simplified example using Flask's @app.route decorator and a hypothetical user_role variable:</span>\n",
    "\n",
    "\n"
   ]
  },
  {
   "cell_type": "code",
   "execution_count": null,
   "metadata": {},
   "outputs": [],
   "source": [
    "from flask import Flask, render_template\n",
    "\n",
    "app = Flask(__name__)\n",
    "\n",
    "@app.route('/user/dashboard')\n",
    "def user_dashboard():\n",
    "    # Code for user dashboard\n",
    "    return render_template('user_dashboard.html')\n",
    "\n",
    "@app.route('/admin/dashboard')\n",
    "def admin_dashboard():\n",
    "    # Code for admin dashboard\n",
    "    return render_template('admin_dashboard.html')\n",
    "\n",
    "if __name__ == '__main__':\n",
    "    app.run(debug=True)"
   ]
  },
  {
   "cell_type": "markdown",
   "metadata": {},
   "source": [
    "In a real-world scenario, you would likely use a more robust authentication and authorization system, such as Flask-Login or Flask-Security, to handle user roles and permissions securely.\n",
    "\n",
    "Remember that this is a simplified explanation, and the actual implementation might vary based on the specific requirements of your web application."
   ]
  },
  {
   "cell_type": "markdown",
   "metadata": {},
   "source": [
    "## <font face=\"Times New Roman\" color=\"#FFC0CB\">Role Based Authorization:</font>\n",
    "\n",
    "<span style=\"font-family: 'Times New Roman', sans-serif;\">Authorization and @roles_required decorator:</span>\n",
    "\n",
    "<span style=\"font-family: 'Times New Roman', sans-serif;\">Authorization is the process of specifying and enforcing access rights of users to resources. Flask-User provides role-based authorization through the use of the @roles_required decorator. This decorator is applied to view functions (route handlers) in Flask.</span>\n",
    "\n",
    "\n",
    "### <font face=\"Times New Roman\" color=\"#FFC0CB\">Conditions for Access:</font>\n",
    "\n",
    "<span style=\"font-family: 'Times New Roman', sans-serif;\">For a user to access a route decorated with @roles_required:</span>\n",
    "\n",
    "<span style=\"font-family: 'Times New Roman', sans-serif;\">- The user must be logged in and the user must be associated with the specified role names.</span>\n",
    "\n",
    "<span style=\"font-family: 'Times New Roman', sans-serif;\">If these conditions are not met, an 'Unauthorized access' error message is shown, and the user is redirected to the USER_UNAUTHORIZED_ENDPOINT.</span>\n",
    "\n",
    "<span style=\"font-family: 'Times New Roman', sans-serif;\">Example of @roles_required decorator:\n",
    "The provided example demonstrates a route /admin/dashboard that requires the user to be logged in and associated with the 'Admin' role.</span>"
   ]
  },
  {
   "cell_type": "code",
   "execution_count": null,
   "metadata": {},
   "outputs": [],
   "source": [
    "from flask_user import roles_required\n",
    "\n",
    "@route('/admin/dashboard')    # @route() must always be the outer-most decorator\n",
    "@roles_required('Admin')\n",
    "def admin_dashboard():\n",
    "    # render the admin dashboard"
   ]
  },
  {
   "cell_type": "markdown",
   "metadata": {},
   "source": [
    "*Note that the comparison of role names is case-sensitive.\n",
    "\n",
    "### Simple AND/OR operations:\n",
    "\n",
    "AND Operation: At the decorator level, if multiple role names are specified, the user must have all the specified roles.\n",
    "OR Operation: At the argument level, each item may be a role name or a list of role names. If a list of role names is specified, the user must have any one of the specified roles to gain access.\n",
    "Example of OR operation:\n",
    "\n",
    "Ensures that the user is ('Starving' AND (an 'Artist' OR a 'Programmer'))\n",
    "@roles_required('Starving', ['Artist', 'Programmer'])\n",
    "\n",
    "The nesting level only goes as deep as the example shows.\n",
    "\n",
    "Required Role and UserRoles data-models:\n",
    "The @roles_required decorator depends on the Role and UserRoles data-models, in addition to the User data-model. These data-models likely define the roles available in the application and the association between users and roles.\n",
    "\n",
    "Example App:\n",
    "The explanation refers to a \"Basic App\" that demonstrates the use of the @roles_required decorator. It would be worthwhile to refer to the documentation or example code provided by Flask-User to see the actual implementation of these concepts in a complete application."
   ]
  },
  {
   "cell_type": "markdown",
   "metadata": {},
   "source": [
    "\n",
    "## User data-model\n",
    "\n",
    "## flexible class name\n",
    "\n",
    "## Fixed data ,odel property names\n",
    "\n",
    "## Flexible database column names\n",
    "\n",
    "## Optional Role and UserRoles data models\n",
    "\n",
    "## Optional UserEmail Data Model\n"
   ]
  },
  {
   "cell_type": "markdown",
   "metadata": {},
   "source": []
  }
 ],
 "metadata": {
  "kernelspec": {
   "display_name": "Python 3",
   "language": "python",
   "name": "python3"
  },
  "language_info": {
   "name": "python",
   "version": "3.10.12"
  },
  "orig_nbformat": 4
 },
 "nbformat": 4,
 "nbformat_minor": 2
}
