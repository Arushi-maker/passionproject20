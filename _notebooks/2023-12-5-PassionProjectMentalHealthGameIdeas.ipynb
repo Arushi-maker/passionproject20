{
 "cells": [
  {
   "cell_type": "markdown",
   "metadata": {},
   "source": [
    "Questionnaires\n",
    "\n",
    "Anxiety quiz (High functioning and low functioning until I can make two different ones): \n",
    "Question 1: How often do you feel nervous?\n",
    "a. Every day\n",
    "b. Once a week\n",
    "c. Every few months\n",
    "\n",
    "Question 2: How often do you worry frequently?\n",
    "a. Every day\n",
    "b. Once a week\n",
    "c. Every few months\n",
    "\n",
    "Question 3: How often are you overly scared (of anything, really)\n",
    "a. Every day\n",
    "b. Once a week\n",
    "c. Every few months\n",
    "\n",
    "Depression quiz\n",
    "Question 1: How often do you feel extremely down, upset or sad?\n",
    "a. Every day\n",
    "b. Once a week\n",
    "c. Every few months \n",
    "\n",
    "Question 2: When do you tend to have less energy or willingness to do anything?\n",
    "a. Every day\n",
    "b. Once a week\n",
    "c. Every few months\n",
    "\n",
    "Question 3: How often do you think negatively about yourself (ex: you only let everyone down)?\n",
    "a. Every day\n",
    "b. Once a week\n",
    "c. Every few months "
   ]
  },
  {
   "cell_type": "markdown",
   "metadata": {},
   "source": [
    "Simulation Game"
   ]
  }
 ],
 "metadata": {
  "language_info": {
   "name": "python"
  }
 },
 "nbformat": 4,
 "nbformat_minor": 2
}
