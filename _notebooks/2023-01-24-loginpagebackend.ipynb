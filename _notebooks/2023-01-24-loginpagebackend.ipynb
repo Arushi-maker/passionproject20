{
 "cells": [
  {
   "cell_type": "code",
   "execution_count": null,
   "metadata": {},
   "outputs": [],
   "source": [
    "from flask import flask\n",
    "app = flask(__name__)\n",
    "app.config['SQLALCHEMY_DATABASE_URI'] = 'sqlite:///users.db'  # SQLite database file\n",
    "app.config['SECRET_KEY'] = 'your_secret_key'  # Change this to a secret key\n",
    "\n",
    "db = SQLAlchemy(app)\n",
    "\n",
    "class User(db.Model):\n",
    "    id = db.Column(db.Integer, primary_key=True)\n",
    "    username = db.Column(db.String(50), unique=True, nullable=False)\n",
    "    password = db.Column(db.String(100), nullable=False)\n",
    "\n",
    "# Create tables in the database\n",
    "db.create_all()\n",
    "\n",
    "@app.route('/login', methods=['GET', 'POST'])\n",
    "def login():\n",
    "    if request.method == 'POST':\n",
    "        username = request.form['username']\n",
    "        password = request.form['password']\n",
    "\n",
    "        user = User.query.filter_by(username=username).first()\n",
    "\n",
    "        if user and check_password_hash(user.password, password):\n",
    "            session['user_id'] = user.id\n",
    "            flash('Login successful!', 'success')\n",
    "            return redirect(url_for('dashboard'))\n",
    "        else:\n",
    "            flash('Invalid username or password', 'error')\n",
    "\n",
    "    return render_template('login.html')\n",
    "\n",
    "@app.route('/dashboard')\n",
    "def dashboard():\n",
    "    if 'user_id' in session:\n",
    "        user = User.query.get(session['user_id'])\n",
    "        return f'Welcome, {user.username}! This is your dashboard.'\n",
    "    else:\n",
    "        return redirect(url_for('login'))\n",
    "\n",
    "if __name__ == '__main__':\n",
    "    app.run(debug=True)\n"
   ]
  }
 ],
 "metadata": {
  "kernelspec": {
   "display_name": "Python 3",
   "language": "python",
   "name": "python3"
  },
  "language_info": {
   "codemirror_mode": {
    "name": "ipython",
    "version": 3
   },
   "file_extension": ".py",
   "mimetype": "text/x-python",
   "name": "python",
   "nbconvert_exporter": "python",
   "pygments_lexer": "ipython3",
   "version": "3.10.12"
  },
  "orig_nbformat": 4
 },
 "nbformat": 4,
 "nbformat_minor": 2
}
