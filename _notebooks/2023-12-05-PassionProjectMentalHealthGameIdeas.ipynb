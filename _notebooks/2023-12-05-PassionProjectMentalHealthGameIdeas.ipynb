{
 "cells": [
  {
   "cell_type": "markdown",
   "metadata": {},
   "source": [
    "Questionnaires\n",
    "\n",
    "Anxiety quiz (High functioning and low functioning until I can make two different ones): \n",
    "Question 1: How often do you feel nervous?\n",
    "a. Every day\n",
    "b. Once a week\n",
    "c. Every few months\n",
    "\n",
    "Question 2: How frequently do you worry a lot?\n",
    "a. Every day\n",
    "b. Once a week\n",
    "c. Every few months\n",
    "\n",
    "Question 3: How often are you overly scared (of anything, really)\n",
    "a. Every day\n",
    "b. Once a week\n",
    "c. Every few months\n",
    "\n",
    "Depression quiz\n",
    "Question 1: How often do you feel extremely down, upset or sad?\n",
    "a. Every day\n",
    "b. Once a week\n",
    "c. Every few months \n",
    "\n",
    "Question 2: When do you tend to have less energy or willingness to do anything?\n",
    "a. Every day\n",
    "b. Once a week\n",
    "c. Every few months\n",
    "\n",
    "Question 3: How often do you think negatively about yourself (ex: you only let everyone down)?\n",
    "a. Every day\n",
    "b. Once a week\n",
    "c. Every few months "
   ]
  },
  {
   "cell_type": "markdown",
   "metadata": {},
   "source": [
    "Simulation Game\n",
    "\n",
    "Either run or a game where users are told to tap a specific object in order to win for two minutes. There are other objects to trick them, so the game requires focus. \n"
   ]
  }
 ],
 "metadata": {
  "kernelspec": {
   "display_name": "Python 3",
   "language": "python",
   "name": "python3"
  },
  "language_info": {
   "codemirror_mode": {
    "name": "ipython",
    "version": 3
   },
   "file_extension": ".py",
   "mimetype": "text/x-python",
   "name": "python",
   "nbconvert_exporter": "python",
   "pygments_lexer": "ipython3",
   "version": "3.10.12"
  }
 },
 "nbformat": 4,
 "nbformat_minor": 2
}
