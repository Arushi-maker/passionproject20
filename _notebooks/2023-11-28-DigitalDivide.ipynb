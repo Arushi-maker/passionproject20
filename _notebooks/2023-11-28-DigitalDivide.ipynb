{
 "cells": [
  {
   "cell_type": "markdown",
   "metadata": {},
   "source": [
    "---\n",
    "toc: true\n",
    "comments: true\n",
    "layout: notebook\n",
    "title: Digital Divide\n",
    "description: Here we discuss our intermediate plans for our passion project and Binary CPT Warmup.\n",
    "courses: { csp: {week: 2} }\n",
    "type: hacks\n",
    "---"
   ]
  },
  {
   "cell_type": "markdown",
   "metadata": {},
   "source": [
    "## Team Teach: Digital Divide\n",
    "# Big Idea 5.2\n",
    "\n",
    "# College Board Notes:\n",
    "\n",
    "1.C.1: Internet access varies between three main groups: demographic, socioeconomic, and geographic categories; as well as countries\n",
    "1.C.2: “Digital Divide” refers to differing access to computing devices and the Internet based on the three groups stated above\n",
    "Demographics include age, religion, race, etc\n",
    "Some countries:\n",
    "Computers not common rurally\n",
    "Only small number of websites, also those that are permitted by govt\n",
    "Internet is used to protect and advocate the government\n",
    "High level of internet surveillance \n",
    "1.C.3: Can affect multiple groups and also individual\n",
    "1.C.4: Raises questions about issues of equity, access, and influence both globally and locally\n",
    "1.C.5: Digital divide is affected by the actions of individuals, organizations, and governments\n",
    "Discuss positive solutions to digital divide\n",
    "\n",
    "# Demographic\n",
    "Different groups have different access to CS and technology\n",
    "Younger people are more comfortable with tech\n",
    "Women have less access to technology in certain areas\n",
    "# Socioeconomic\n",
    "Higher-income individuals have more accessibility to the newest tech\n",
    "Lets them access technology before other people\n",
    "# Geographic\n",
    "Different areas have more access to tech \n",
    "Ex: diff areas in a country\n",
    "EX: diff countries\n",
    "Harmful Impacts of the Digital Divide\n",
    "Schools are relying more on technology\n",
    "The inability to access tech forces underprivileged students to fall behind\n",
    "The wealthy and those with access to Internet are the ones who can use it\n",
    "Since tech gives space for many platforms we don’t hear from those who don’t have access to it\n",
    "\n",
    "# Educational Opportunities\n",
    "Students especially through the pandemic relied on technology to learn\n",
    "Those without technology were forced to fall behind\n",
    "Those who weren’t connected suffered\n",
    "Employment Opportunities\n",
    "Those without tech cannot easily find jobs\n",
    "Stable internet is an important factor for employees\n",
    "Reducing the Digital Divide\n",
    "Organizations provide funding to give tech to those who can’t afford it\n",
    "Free internet is often available\n",
    "Organizations reach out to teach people how to use technology\n",
    "Links:\n",
    "Federal Communications Commission (FCC): https://www.fcc.gov/\n",
    "EveryoneOn: https://www.everyoneon.org/\n",
    "Code.org: https://www.everyoneon.org/\n",
    "Digital Promise: https://www.everyoneon.org/"
   ]
  }
 ],
 "metadata": {
  "language_info": {
   "name": "python"
  },
  "orig_nbformat": 4
 },
 "nbformat": 4,
 "nbformat_minor": 2
}
