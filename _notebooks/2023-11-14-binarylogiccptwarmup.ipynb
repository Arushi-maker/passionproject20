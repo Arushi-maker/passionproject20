{
 "cells": [
  {
   "attachments": {},
   "cell_type": "markdown",
   "metadata": {},
   "source": [
    "---\n",
    "toc: true\n",
    "comments: true\n",
    "layout: notebook\n",
    "title: Binary Logic CPT Warmup\n",
    "description: Explanations of real binary abstractions including hacks featuring different binary code.\n",
    "courses: { csp: {week: 1} }\n",
    "type: hacks\n",
    "---"
   ]
  },
  {
   "attachments": {},
   "cell_type": "markdown",
   "metadata": {},
   "source": [
    "## Binary Code\n",
    "< Binary code is a system of representing information using only two digits: 0 and 1.\n",
    "- It is the fundamental language of computers, which use electronic circuits to store and process data.\n",
    "- In binary code, each digit is called a \"bit,\" and a group of 8 bits is known as a \"byte.\"\n",
    "- Binary code is the foundation of all computer languages and is used to encode text, numbers, and other data types.\n",
    "- It relies on the binary system, which is based on powers of 2, with each digit representing a power of 2 (1, 2, 4, 8, 16, etc.).\n",
    "- The combination of 0s and 1s in various sequences allows computers to represent and process a wide range of information.'''"
   ]
  }
 ],
 "metadata": {
  "kernelspec": {
   "display_name": "base",
   "language": "python",
   "name": "python3"
  },
  "language_info": {
   "codemirror_mode": {
    "name": "ipython",
    "version": 3
   },
   "file_extension": ".py",
   "mimetype": "text/x-python",
   "name": "python",
   "nbconvert_exporter": "python",
   "pygments_lexer": "ipython3",
   "version": "3.9.12"
  },
  "orig_nbformat": 4
 },
 "nbformat": 4,
 "nbformat_minor": 2
}
