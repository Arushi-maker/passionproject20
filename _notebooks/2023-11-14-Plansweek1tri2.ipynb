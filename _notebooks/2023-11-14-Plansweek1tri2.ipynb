{
 "cells": [
  {
   "cell_type": "markdown",
   "metadata": {},
   "source": [
    "---\n",
    "toc: true\n",
    "comments: true\n",
    "layout: notebook\n",
    "title: Plans W1 T2\n",
    "description: Here we discuss our beginning plans for our passion project and Binary CPT Warmup.\n",
    "courses: { csp: {week: 1} }\n",
    "type: hacks\n",
    "---"
   ]
  },
  {
   "cell_type": "markdown",
   "metadata": {},
   "source": [
    "## Week one notebook:\n",
    "# Day one:\n",
    "First day of the trimester. Made group and started discussing passion project. Made a shared repository for our team. \n",
    "\n",
    "# Day two:\n",
    "Started brainstorming binary hacks. Decided on the visual representation of binary through a game. Made 2048 a common game in which if two boxes with the same number collide they multiply until eventually the player either runs out of boxes or reaches 2048. Instead of using regular values such as 2, 4, or 8, we represent them in binary so the player understands what binary numbers mean.\n",
    "Started coding game's basic outline\n",
    "Looked into our passion project. Started brainstorming ideas and landed on a mental health game which can test for symptoms of depression or anxiety. Discussed game format. Plan to begin with a three question long quiz for each potential disorder and finish with a game that tests quick thinking and ability to focus. \n",
    "\n",
    "# Day three\n",
    "Passion project overview-\n",
    "Ideal: Create a site that consists of three games/simulations. First, a questionnaire that helps determine the user’s mental condition. Secondly, a game for the user to play around with, while probably engaging in activities that relate to mental health. Lastly, a report personalized to the user, using API. \n",
    "\n",
    "3 questions questionnaire before the game\n",
    "2 minute simulation game for diagnostic\n",
    "\n",
    "Depression\n",
    "High functioning anxiety\n",
    "Low functioning anxiety\n",
    "\n",
    "Ex: A game with stimulation that can indicate if the player gets easily distracted or loses attention. Also forces quick decision-making and can indicate symptoms of mental health issues. Other factors could be large cliffs etc to see how the player reacts. We would also add NPC’s and try to make the character report back to them indicating how relatable the game felt.\n",
    "\n",
    "Binary progress:\n",
    "Began inputting binary numbers and editing code\n"
   ]
  }
 ],
 "metadata": {
  "language_info": {
   "name": "python"
  },
  "orig_nbformat": 4
 },
 "nbformat": 4,
 "nbformat_minor": 2
}
