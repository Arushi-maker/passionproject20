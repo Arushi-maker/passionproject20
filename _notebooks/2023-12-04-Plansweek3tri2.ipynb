{
 "cells": [
  {
   "cell_type": "markdown",
   "metadata": {},
   "source": [
    "---\n",
    "toc: true\n",
    "comments: true\n",
    "layout: notebook\n",
    "title: Plans W3 T2\n",
    "description: Here we discuss our intermediate plans for the next steps.\n",
    "courses: { csp: {week: 2} }\n",
    "type: hacks\n",
    "---"
   ]
  },
  {
   "cell_type": "markdown",
   "metadata": {},
   "source": [
    "## Week three notebook:\n",
    "\n",
    "# Things that need to get done this week\n",
    "\n",
    "- [] Finish team teach lesson on digital divide\n",
    "- [] Finish final touches on binary\n",
    "- [] Record for binary video\n",
    "- [] Finish binary video\n",
    "\n",
    "# Potential things if all above is finished\n",
    "\n",
    "- [] Work on passion project ideas on google doc\n",
    "\n"
   ]
  }
 ],
 "metadata": {
  "language_info": {
   "name": "python"
  },
  "orig_nbformat": 4
 },
 "nbformat": 4,
 "nbformat_minor": 2
}
