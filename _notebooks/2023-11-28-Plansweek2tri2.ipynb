{
 "cells": [
  {
   "cell_type": "markdown",
   "metadata": {},
   "source": [
    "---\n",
    "toc: true\n",
    "comments: true\n",
    "layout: notebook\n",
    "title: Plans W2 T2\n",
    "description: Here we discuss our intermediate plans for our passion project and Binary CPT Warmup.\n",
    "courses: { csp: {week: 2} }\n",
    "type: hacks\n",
    "---"
   ]
  },
  {
   "cell_type": "markdown",
   "metadata": {},
   "source": [
    "## Week one notebook:\n",
    "# Day one:\n",
    "\n",
    "- [] Create team teach lesson on digital divide\n",
    "- [] Make game logic\n",
    "- [] Worked on the 2048 feature \n",
    "\n",
    "# Day two:\n",
    "\n",
    "- [] Ask Lopez and then confirm how to use 2048 on website and not only terminal\n",
    "- [] Make color game binary\n",
    "- [] Make team teach notebook\n",
    "\n",
    "# Day three:\n",
    "\n",
    "- [] Team teach lesson\n",
    "- [] 2048 grid and formatting\n",
    "- [] Research defintions of binary\n",
    "- [] Color game new adaptation\n",
    "\n",
    "# Day four:\n",
    "\n",
    "- [] Team teach lesson\n",
    "- [] Get sliders to appear in color game\n",
    "- [] 2048 colors aren't working correctly, fix it\n",
    "\n",
    "# Day five:\n",
    "\n",
    "- [] Fixed colors of 2048, show text, styling\n",
    "- [] Final touches on both showcases"
   ]
  }
 ],
 "metadata": {
  "language_info": {
   "name": "python"
  },
  "orig_nbformat": 4
 },
 "nbformat": 4,
 "nbformat_minor": 2
}
