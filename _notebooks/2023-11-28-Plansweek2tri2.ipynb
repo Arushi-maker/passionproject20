{
 "cells": [
  {
   "cell_type": "markdown",
   "metadata": {},
   "source": [
    "---\n",
    "toc: true\n",
    "comments: true\n",
    "layout: notebook\n",
    "title: Plans W2 T2\n",
    "description: Here we discuss our intermediate plans for our passion project and Binary CPT Warmup.\n",
    "courses: { csp: {week: 2} }\n",
    "type: hacks\n",
    "---"
   ]
  }
 ],
 "metadata": {
  "language_info": {
   "name": "python"
  },
  "orig_nbformat": 4
 },
 "nbformat": 4,
 "nbformat_minor": 2
}
