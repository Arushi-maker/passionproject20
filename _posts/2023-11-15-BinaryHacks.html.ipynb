{
 "cells": [
  {
   "cell_type": "code",
   "execution_count": 1,
   "metadata": {
    "vscode": {
     "languageId": "html"
    }
   },
   "outputs": [
    {
     "ename": "SyntaxError",
     "evalue": "invalid decimal literal (3854326841.py, line 9)",
     "output_type": "error",
     "traceback": [
      "\u001b[0;36m  File \u001b[0;32m\"/tmp/ipykernel_414639/3854326841.py\"\u001b[0;36m, line \u001b[0;32m9\u001b[0m\n\u001b[0;31m    width: 100px;\u001b[0m\n\u001b[0m             ^\u001b[0m\n\u001b[0;31mSyntaxError\u001b[0m\u001b[0;31m:\u001b[0m invalid decimal literal\n"
     ]
    }
   ],
   "source": [
    "<!DOCTYPE html>\n",
    "<html>\n",
    "\n",
    "<head>\n",
    "    <meta charset=\"utf-8\">\n",
    "    <title>Color Wheel w/binary</title>\n",
    "    <style>\n",
    "        .color-square {\n",
    "            width: 100px;\n",
    "            height: 100px;\n",
    "            display: inline-block;\n",
    "            margin: 5px;\n",
    "        }\n",
    "    </style>\n",
    "</head>\n",
    "\n",
    "<body>\n",
    "    <h1>Instructions</h1>\n",
    "    <p>\n",
    "        Look at the computer’s color. Divide RGB values into pairs. Start with R and G. If R and G combinations are similar to the computer’s color, adjust R and G values to match the color exactly. Else, pick R and B. Repeat steps 2-4. Else, pick B and G. Repeat steps 2-4. Else, quit.\n",
    "    </p>\n",
    "    <div array[] >\n",
    "    <div class=\"color-square\" style=\"background-color: red;\"></div>\n",
    "    <div class=\"color-square\" style=\"background-color: orange;\"></div>\n",
    "    <div class=\"color-square\" style=\"background-color: yellow;\"></div>\n",
    "    <div class=\"color-square\" style=\"background-color: green;\"></div>\n",
    "    <div class=\"color-square\" style=\"background-color: blue;\"></div>\n",
    "    <div class=\"color-square\" style=\"background-color: indigo;\"></div>\n",
    "    <div class=\"color-square\" style=\"background-color: purple;\"></div>\n",
    "    </div>\n",
    "\n",
    "    <h2>RGB Color Generator</h2>\n",
    "\n",
    "    <div class=\"main\">\n",
    "        Result:<input type=\"text\" id=\"box\"\n",
    "                value=\"rgb(255,255,255)\">\n",
    "        <!--Range slider for red color-->\n",
    "        Red:<input type=\"range\" id=\"red\"\n",
    "                value=\"255\" min=\"0\" max=\"255\">\n",
    "        \n",
    "        <!--Range slider for green color-->\n",
    "        Green:<input type=\"range\" id=\"green\"\n",
    "                value=\"255\" min=\"0\" max=\"255\">\n",
    "\n",
    "        <!--Range slider for blue color-->\n",
    "        Blue:<input type=\"range\" id=\"blue\"\n",
    "                value=\"255\" min=\"0\" max=\"255\">\n",
    "    </div>\n",
    "\n",
    "    <script src=\"rgbslider.js\"></script>\n",
    "    <script src=\"squares.js\"></script>\n",
    "</body>\n",
    "\n",
    "</html>"
   ]
  }
 ],
 "metadata": {
  "kernelspec": {
   "display_name": "Python 3",
   "language": "python",
   "name": "python3"
  },
  "language_info": {
   "codemirror_mode": {
    "name": "ipython",
    "version": 3
   },
   "file_extension": ".py",
   "mimetype": "text/x-python",
   "name": "python",
   "nbconvert_exporter": "python",
   "pygments_lexer": "ipython3",
   "version": "3.10.12"
  }
 },
 "nbformat": 4,
 "nbformat_minor": 2
}
