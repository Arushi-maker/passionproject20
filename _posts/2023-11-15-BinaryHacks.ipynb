{
 "cells": [
  {
   "cell_type": "code",
   "execution_count": null,
   "metadata": {
    "vscode": {
     "languageId": "html"
    }
   },
   "outputs": [],
   "source": [
    "<!DOCTYPE html>\n",
    "    <head>\n",
    "        <script>\n",
    "            <title> Color Wheel w/binary</title>\n",
    "        </script>\n",
    "    </head>\n",
    "         \n",
    "    <body>\n",
    "        <script src=\"script.js\"></script>\n",
    "\n",
    "    </body>\n",
    "    </html>\n",
    "    "
   ]
  }
 ],
 "metadata": {
  "language_info": {
   "name": "python"
  }
 },
 "nbformat": 4,
 "nbformat_minor": 2
}
